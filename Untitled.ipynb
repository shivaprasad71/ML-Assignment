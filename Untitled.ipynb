{
 "cells": [
  {
   "cell_type": "code",
   "execution_count": 1,
   "metadata": {},
   "outputs": [
    {
     "name": "stdout",
     "output_type": "stream",
     "text": [
      "Mean of x & y are\n",
      "3.0\n",
      "8.0\n",
      "Variance of x is\n",
      "10.0\n",
      "Covariance is\n",
      "10.0\n",
      "Value of c is\n",
      "1.0\n",
      "Value of m is\n",
      "5.0\n"
     ]
    }
   ],
   "source": [
    "import tensorflow as tf\n",
    "#import numpy as np\n",
    "x=[1,2,3,4,5]\n",
    "y=[6,7,8,9,10]\n",
    "#for i in range(1,5):\n",
    "  #  print ('Enter x')\n",
    "   # a=input()\n",
    "    #x.append(float(a))\n",
    "    #print ('Enter y')\n",
    "    #b=input()\n",
    "    #y.append(float(b))\n",
    "meanx=sum(x)/5\n",
    "meany=sum(y)/5\n",
    "print('Mean of x & y are')\n",
    "print(meanx)\n",
    "print(meany)\n",
    "varx=0\n",
    "cov=0\n",
    "for i in range(0,5):\n",
    "    varx=varx+((x[i]-meanx)*(x[i]-meanx))\n",
    "    cov=cov+((x[i]-meanx)*(y[i]-meany))\n",
    "print('Variance of x is')\n",
    "print(varx)\n",
    "#print(np.var(x))\n",
    "print('Covariance is')\n",
    "print(cov)\n",
    "c=cov/varx\n",
    "print(\"Value of c is\")\n",
    "print(c)\n",
    "m=meany-c*meanx\n",
    "print(\"Value of m is\")\n",
    "print(m)"
   ]
  },
  {
   "cell_type": "code",
   "execution_count": null,
   "metadata": {
    "collapsed": true
   },
   "outputs": [],
   "source": []
  }
 ],
 "metadata": {
  "kernelspec": {
   "display_name": "Python 3",
   "language": "python",
   "name": "python3"
  },
  "language_info": {
   "codemirror_mode": {
    "name": "ipython",
    "version": 3
   },
   "file_extension": ".py",
   "mimetype": "text/x-python",
   "name": "python",
   "nbconvert_exporter": "python",
   "pygments_lexer": "ipython3",
   "version": "3.6.1"
  }
 },
 "nbformat": 4,
 "nbformat_minor": 2
}
