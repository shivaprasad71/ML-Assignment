{
 "cells": [
  {
   "cell_type": "raw",
   "metadata": {
    "slideshow": {
     "slide_type": "slide"
    }
   },
   "source": [
    "#Write a program using tensorflow to build a stochastic gradient descent model for linear regression"
   ]
  },
  {
   "cell_type": "markdown",
   "metadata": {
    "slideshow": {
     "slide_type": "slide"
    }
   },
   "source": [
    "Part 1\n",
    "1. Co-effiecients m &c for y=mx+c are calculated for given values from previous assignment\n",
    "2. Start with 0 (zero ) value for  m & c .\n",
    "3. Using cost function \n",
    "$$J(\\beta) = \\frac{1}{2m}\\sum_{i=1}^m(h_\\beta(x^{(i)})-y^{(i)})^2$$\n",
    "where $(h_\\beta(x^{(i)})$ is prediction for present iteration\n",
    "$y^{(i)}$ is the prediction obtained from y=mx+c value\n",
    "4. Find the values of m & c by updating the values with learning rate of 0.005, 0.0005 etc and epoch value 100,500,1000\n",
    "\n"
   ]
  },
  {
   "cell_type": "markdown",
   "metadata": {
    "slideshow": {
     "slide_type": "slide"
    }
   },
   "source": [
    "Part 2\n",
    "1. Display the graph of decreasing cost function wrt learning rate and epoch\n",
    "2. Compare time complexity of tensorflow api and user defined function\n",
    "3. Start with random values of m & c . Analyse best approach for initial values of m & c.\n"
   ]
  },
  {
   "cell_type": "code",
   "execution_count": 1,
   "metadata": {
    "collapsed": true
   },
   "outputs": [],
   "source": [
    "import tensorflow as tf\n",
    "import numpy as np\n",
    "rng = np.random\n",
    "\n",
    "import matplotlib.pyplot as plt\n",
    "learning_rate = 0.0001\n",
    "training_epochs = 2000\n",
    "display_step = 100"
   ]
  },
  {
   "cell_type": "code",
   "execution_count": 2,
   "metadata": {},
   "outputs": [
    {
     "name": "stdout",
     "output_type": "stream",
     "text": [
      "-0.3049\n",
      "1.494\n"
     ]
    }
   ],
   "source": [
    "with tf.name_scope(\"array_creation\"):\n",
    "    x = tf.constant(np.asarray([1.0,9.4,3.32,0.88,-2.23,1.11,0.57,-2.25,-3.31,6.45]),dtype = tf.float32,name = \"x_array\")\n",
    "    y = tf.constant(np.asarray([1.22,0.24,-0.08,2.25,4.41,3.09,-6.66,-9.77,0.001,2.25]),dtype = tf.float32, name= \"y_array\")\n",
    "with tf.name_scope(\"Calculation_of_means\"):\n",
    "    y_mean = tf.reduce_mean(y, name = \"y_mean\")\n",
    "    with tf.Session() as sess:\n",
    "        result_y = sess.run(y_mean)\n",
    "        print(result_y)\n",
    "    x_mean = tf.reduce_mean(x, name = \"x_mean\")\n",
    "    with tf.Session() as sess:\n",
    "        result_x = sess.run(x_mean)\n",
    "        print(result_x)"
   ]
  },
  {
   "cell_type": "code",
   "execution_count": 37,
   "metadata": {},
   "outputs": [
    {
     "name": "stdout",
     "output_type": "stream",
     "text": [
      "1.494\n",
      "14.2987\n"
     ]
    }
   ],
   "source": [
    "\n",
    "with tf.name_scope(\"Calculating_x_mean_and_x_variance\"):\n",
    "    mean_x, variance = tf.nn.moments(x, [0], name = \"mean_x_and_variance_x\")\n",
    "    with tf.Session() as sess:\n",
    "        m, v = sess.run([mean_x, variance])\n",
    "        print(m)\n",
    "        print(v)\n",
    "\n",
    "\n"
   ]
  },
  {
   "cell_type": "code",
   "execution_count": 38,
   "metadata": {},
   "outputs": [
    {
     "name": "stdout",
     "output_type": "stream",
     "text": [
      "3.60367\n"
     ]
    }
   ],
   "source": [
    "#Calculation of covariance\n",
    "with tf.name_scope(\"Calculation_of_covariance\"):\n",
    "    def tensorflow_covariance(x_array,y_array,x_mean,y_mean):\n",
    "        cov = 0.0\n",
    "        for i in range(0,10):\n",
    "            x_val = tf.subtract(x_array[i],x_mean, name=\"x_i_minus_x_bar\")\n",
    "            y_val = tf.subtract(y_array[i],y_mean, name=\"y_i_minus_y_bar\")\n",
    "            total_val = tf.multiply(x_val,y_val, name=\"Multiplying_found_values\")\n",
    "            cov = tf.add(cov,total_val, name=\"Summation_done\")\n",
    "        return cov/10.0\n",
    "    with tf.Session() as sess:\n",
    "        covar = sess.run(tensorflow_covariance(x,y,x_mean,y_mean))\n",
    "        print(covar)\n"
   ]
  },
  {
   "cell_type": "code",
   "execution_count": 39,
   "metadata": {},
   "outputs": [
    {
     "name": "stdout",
     "output_type": "stream",
     "text": [
      "0.252027\n",
      "-0.681428\n"
     ]
    }
   ],
   "source": [
    "#calculation of slope and intercept\n",
    "#insted of taking a random value this is done\n",
    "with tf.name_scope(\"Calculation_of_slope_m_and_intercept_c\"):\n",
    "    slope = tf.div(covar,v,name=\"Finding_slope\")\n",
    "    intm = tf.multiply(slope,m,name = \"Intermediate_step\")\n",
    "    c_intm = tf.subtract(result_y,intm,name = \"Finding_c\")\n",
    "\n",
    "    with tf.Session() as sess:\n",
    "        m_slope = sess.run(slope)\n",
    "        c = sess.run(c_intm)\n",
    "        print(m_slope)\n",
    "        print(c)\n"
   ]
  },
  {
   "cell_type": "code",
   "execution_count": 40,
   "metadata": {
    "collapsed": true
   },
   "outputs": [],
   "source": [
    "\n",
    "###Part-2: Plotting graph for actual values against predicted values"
   ]
  },
  {
   "cell_type": "code",
   "execution_count": 41,
   "metadata": {},
   "outputs": [
    {
     "name": "stdout",
     "output_type": "stream",
     "text": [
      "Epoch: 0100 cost= 8.864309311 W= 0.0593288 b= -0.00540942\n",
      "Epoch: 0200 cost= 8.822266579 W= 0.0794198 b= -0.00942419\n",
      "Epoch: 0300 cost= 8.791221619 W= 0.0965057 b= -0.0136748\n",
      "Epoch: 0400 cost= 8.768070221 W= 0.111048 b= -0.0181178\n",
      "Epoch: 0500 cost= 8.750589371 W= 0.123435 b= -0.0227163\n",
      "Epoch: 0600 cost= 8.737184525 W= 0.134 b= -0.0274393\n",
      "Epoch: 0700 cost= 8.726714134 W= 0.14302 b= -0.0322606\n",
      "Epoch: 0800 cost= 8.718362808 W= 0.150732 b= -0.0371581\n",
      "Epoch: 0900 cost= 8.711541176 W= 0.157337 b= -0.042113\n",
      "Epoch: 1000 cost= 8.705831528 W= 0.163003 b= -0.0471098\n",
      "Epoch: 1100 cost= 8.700933456 W= 0.167875 b= -0.0521349\n",
      "Epoch: 1200 cost= 8.696626663 W= 0.172073 b= -0.0571774\n",
      "Epoch: 1300 cost= 8.692759514 W= 0.175702 b= -0.0622278\n",
      "Epoch: 1400 cost= 8.689220428 W= 0.178847 b= -0.0672781\n",
      "Epoch: 1500 cost= 8.685929298 W= 0.181581 b= -0.0723218\n",
      "Epoch: 1600 cost= 8.682827950 W= 0.183969 b= -0.0773534\n",
      "Epoch: 1700 cost= 8.679876328 W= 0.186062 b= -0.0823682\n",
      "Epoch: 1800 cost= 8.677042961 W= 0.187905 b= -0.0873623\n",
      "Epoch: 1900 cost= 8.674306870 W= 0.189536 b= -0.0923323\n",
      "Epoch: 2000 cost= 8.671654701 W= 0.190986 b= -0.0972756\n",
      "Epoch: 2100 cost= 8.669071198 W= 0.192283 b= -0.10219\n",
      "Epoch: 2200 cost= 8.666550636 W= 0.19345 b= -0.107075\n",
      "Epoch: 2300 cost= 8.664084435 W= 0.194506 b= -0.111927\n",
      "Epoch: 2400 cost= 8.661669731 W= 0.195468 b= -0.116745\n",
      "Epoch: 2500 cost= 8.659303665 W= 0.196349 b= -0.12153\n",
      "Epoch: 2600 cost= 8.656983376 W= 0.197162 b= -0.126279\n",
      "Epoch: 2700 cost= 8.654705048 W= 0.197916 b= -0.130993\n",
      "Epoch: 2800 cost= 8.652467728 W= 0.19862 b= -0.135671\n",
      "Epoch: 2900 cost= 8.650270462 W= 0.199281 b= -0.140312\n",
      "Epoch: 3000 cost= 8.648110390 W= 0.199904 b= -0.144917\n",
      "Epoch: 3100 cost= 8.645990372 W= 0.200496 b= -0.149484\n",
      "Epoch: 3200 cost= 8.643905640 W= 0.20106 b= -0.154016\n",
      "Epoch: 3300 cost= 8.641856194 W= 0.201601 b= -0.158509\n",
      "Epoch: 3400 cost= 8.639842987 W= 0.20212 b= -0.162967\n",
      "Epoch: 3500 cost= 8.637863159 W= 0.202622 b= -0.167388\n",
      "Epoch: 3600 cost= 8.635918617 W= 0.203108 b= -0.171772\n",
      "Epoch: 3700 cost= 8.634006500 W= 0.20358 b= -0.176119\n",
      "Epoch: 3800 cost= 8.632127762 W= 0.204039 b= -0.18043\n",
      "Epoch: 3900 cost= 8.630280495 W= 0.204487 b= -0.184705\n",
      "Epoch: 4000 cost= 8.628462791 W= 0.204927 b= -0.188944\n",
      "Epoch: 4100 cost= 8.626678467 W= 0.205356 b= -0.193148\n",
      "Epoch: 4200 cost= 8.624923706 W= 0.205779 b= -0.197316\n",
      "Epoch: 4300 cost= 8.623197556 W= 0.206194 b= -0.201449\n",
      "Epoch: 4400 cost= 8.621502876 W= 0.206603 b= -0.205546\n",
      "Epoch: 4500 cost= 8.619836807 W= 0.207005 b= -0.209609\n",
      "Epoch: 4600 cost= 8.618199348 W= 0.207402 b= -0.213637\n",
      "Epoch: 4700 cost= 8.616587639 W= 0.207793 b= -0.217631\n",
      "Epoch: 4800 cost= 8.615004539 W= 0.20818 b= -0.221592\n",
      "Epoch: 4900 cost= 8.613449097 W= 0.208562 b= -0.225518\n",
      "Epoch: 5000 cost= 8.611920357 W= 0.208939 b= -0.229411\n",
      "Optimization Finished!\n",
      "Training cost= 8.61192 W= 0.208939 b= -0.229411 \n",
      "\n"
     ]
    },
    {
     "data": {
      "image/png": "[encoded data removed]",
      "text/plain": [
       "<matplotlib.figure.Figure at 0x7fd7d4122dd8>"
      ]
     },
     "metadata": {},
     "output_type": "display_data"
    }
   ],
   "source": [
    "with tf.name_scope(\"Plotting\"):\n",
    "    n_samples = x_array.shape[0]\n",
    "    X = tf.placeholder(\"float\")\n",
    "    Y = tf.placeholder(\"float\")\n",
    "\n",
    "    # Set model weights\n",
    "    W = tf.Variable(rng.randn(), name=\"weight\")\n",
    "    b = tf.Variable(rng.randn(), name=\"bias\")\n",
    "\n",
    "    # Construct a linear model\n",
    "    pred = tf.add(tf.multiply(X, W), b)\n",
    "\n",
    "\n",
    "    # Mean squared error\n",
    "    cost = tf.reduce_sum(tf.pow(pred-Y, 2))/(2*n_samples)\n",
    "    # Gradient descent\n",
    "    optimizer = tf.train.GradientDescentOptimizer(learning_rate).minimize(cost)\n",
    "\n",
    "    # Initializing the variables\n",
    "    init = tf.global_variables_initializer()\n",
    "\n",
    "    # Launch the graph\n",
    "    with tf.Session() as sess:\n",
    "        sess.run(init)\n",
    "\n",
    "        # Fit all training data\n",
    "        for epoch in range(training_epochs):\n",
    "            for (p, r) in zip(x_array, y_array):\n",
    "                sess.run(optimizer, feed_dict={X: p, Y: r})\n",
    "\n",
    "            # Display logs per epoch step\n",
    "            if (epoch+1) % display_step == 0:\n",
    "                c = sess.run(cost, feed_dict={X: x_array, Y:y_array})\n",
    "                print(\"Epoch:\", '%04d' % (epoch+1), \"cost=\", \"{:.9f}\".format(c), \\\n",
    "                    \"W=\", sess.run(W), \"b=\", sess.run(b))\n",
    "\n",
    "        print(\"Optimization Finished!\")\n",
    "        training_cost = sess.run(cost, feed_dict={X: x_array, Y: y_array})\n",
    "        print(\"Training cost=\", training_cost, \"W=\", sess.run(W), \"b=\", sess.run(b), '\\n')\n",
    "\n",
    "        # Graphic display\n",
    "        plt.plot(x_array, y_array, 'ro', label='Original data')\n",
    "        plt.plot(x_array, sess.run(W) * x_array + sess.run(b), label='Fitted line')\n",
    "        plt.legend()\n",
    "        plt.show()"
   ]
  },
  {
   "cell_type": "code",
   "execution_count": 42,
   "metadata": {},
   "outputs": [
    {
     "name": "stdout",
     "output_type": "stream",
     "text": [
      "5.3181474312\n"
     ]
    }
   ],
   "source": [
    "#rms error\n",
    "with tf.name_scope(\"RMSerror\"):\n",
    "    rms = tf.sqrt(tf.reduce_mean(tf.squared_difference(x_array, y_array,name = \"difference_square\"),name=\"Finding_mean\"),name = \"Finding_square_root\")\n",
    "    with tf.Session() as sess:\n",
    "        rmse=sess.run(rms)\n",
    "        print(rmse)"
   ]
  },
  {
   "cell_type": "code",
   "execution_count": 43,
   "metadata": {},
   "outputs": [
    {
     "name": "stdout",
     "output_type": "stream",
     "text": [
      "0.252027\n"
     ]
    }
   ],
   "source": [
    "with tf.name_scope(\"Finding_teta_1\"): \n",
    "    y_var = tf.subtract(y,result_y,name = \"Subtract_y_array_with_y_mean\")\n",
    "    x_var = tf.subtract(x,m,name = \"Subtract_x_array_with_x_mean\")\n",
    "    mult = tf.multiply(x_var,y_var,name = \"Multiply_calculated_arrays\")\n",
    "    sumn = tf.reduce_sum(mult,name = \"Find_sum_of_x_i_minus_mean_x_and_y_i_minus_mean_y\")\n",
    "    x_var2 = tf.multiply(x_var,x_var,name = \"Squaring_found_arrray_values\")\n",
    "    sumd = tf.reduce_sum(x_var2,name = \"Find_sum_of_array_of_x_i_minus_mean_x\")\n",
    "    val = sumn/sumd\n",
    "\n",
    "    with tf.Session() as sess:\n",
    "        res = sess.run(val)\n",
    "        print(res)\n",
    "\n"
   ]
  },
  {
   "cell_type": "code",
   "execution_count": 44,
   "metadata": {},
   "outputs": [
    {
     "name": "stdout",
     "output_type": "stream",
     "text": [
      "-0.681428\n"
     ]
    }
   ],
   "source": [
    "with tf.name_scope(\"Finding_teta_0\"):    \n",
    "    temp = tf.multiply(res,m,name = \"Multiply_res_with_slope\")\n",
    "    teta = tf.subtract(result_y,temp,name=\"Sub_obtained_res_with_mean_y\")\n",
    "    with tf.Session() as sess:\n",
    "        teta0 = sess.run(teta)\n",
    "        print(teta0)\n"
   ]
  },
  {
   "cell_type": "code",
   "execution_count": 45,
   "metadata": {},
   "outputs": [
    {
     "name": "stdout",
     "output_type": "stream",
     "text": [
      "[-0.42940134  1.68762565  0.15530139 -0.45964459 -1.24344873 -0.40167835\n",
      " -0.53777295 -1.24848914 -1.51563787  0.94414598]\n"
     ]
    }
   ],
   "source": [
    "with tf.name_scope(\"Finding_predictions\"):\n",
    "    mx = tf.multiply(res,x,name = \"Multiply_res_with_x_array\")\n",
    "    y_temp = tf.add(mx,teta0,name = \"Add_m_multiplied_x_array_with_c\")\n",
    "    with tf.Session() as sess:\n",
    "        y_new = sess.run(y_temp)\n",
    "        print(y_new)"
   ]
  },
  {
   "cell_type": "code",
   "execution_count": 46,
   "metadata": {},
   "outputs": [
    {
     "name": "stdout",
     "output_type": "stream",
     "text": [
      "8.52351\n"
     ]
    }
   ],
   "source": [
    "t_minus = tf.subtract(y_new,y,name = \"Sub_new_preds_with_original_y\")\n",
    "t_squared = tf.multiply(t_minus,t_minus,name= \"Square_obtained_res\")\n",
    "t_sum = tf.reduce_sum(t_squared,name=\"Find_array_sum\")\n",
    "j_teta = tf.div(t_sum,20,name=\"Divide_by_no_of_elements\")\n",
    "with tf.Session() as sess:\n",
    "    print(sess.run(j_teta))"
   ]
  },
  {
   "cell_type": "code",
   "execution_count": 47,
   "metadata": {},
   "outputs": [
    {
     "name": "stdout",
     "output_type": "stream",
     "text": [
      "8.52351\n"
     ]
    }
   ],
   "source": [
    "with tf.Session() as sess:\n",
    "    writer = tf.summary.FileWriter(\"/tmp/tboard/output_regg2\", sess.graph)\n",
    "    print(sess.run(j_teta))\n",
    "    writer.close()"
   ]
  },
  {
   "cell_type": "code",
   "execution_count": null,
   "metadata": {
    "collapsed": true
   },
   "outputs": [],
   "source": []
  },
  {
   "cell_type": "code",
   "execution_count": null,
   "metadata": {
    "collapsed": true
   },
   "outputs": [],
   "source": []
  },
  {
   "cell_type": "code",
   "execution_count": null,
   "metadata": {
    "collapsed": true
   },
   "outputs": [],
   "source": []
  },
  {
   "cell_type": "code",
   "execution_count": null,
   "metadata": {
    "collapsed": true
   },
   "outputs": [],
   "source": []
  },
  {
   "cell_type": "code",
   "execution_count": null,
   "metadata": {
    "collapsed": true
   },
   "outputs": [],
   "source": []
  },
  {
   "cell_type": "code",
   "execution_count": null,
   "metadata": {
    "collapsed": true
   },
   "outputs": [],
   "source": []
  },
  {
   "cell_type": "code",
   "execution_count": null,
   "metadata": {
    "collapsed": true
   },
   "outputs": [],
   "source": []
  },
  {
   "cell_type": "code",
   "execution_count": null,
   "metadata": {
    "collapsed": true
   },
   "outputs": [],
   "source": []
  },
  {
   "cell_type": "code",
   "execution_count": null,
   "metadata": {
    "collapsed": true
   },
   "outputs": [],
   "source": []
  },
  {
   "cell_type": "code",
   "execution_count": null,
   "metadata": {
    "collapsed": true
   },
   "outputs": [],
   "source": []
  },
  {
   "cell_type": "code",
   "execution_count": null,
   "metadata": {
    "collapsed": true
   },
   "outputs": [],
   "source": []
  },
  {
   "cell_type": "code",
   "execution_count": null,
   "metadata": {
    "collapsed": true
   },
   "outputs": [],
   "source": []
  },
  {
   "cell_type": "code",
   "execution_count": null,
   "metadata": {
    "collapsed": true
   },
   "outputs": [],
   "source": []
  },
  {
   "cell_type": "code",
   "execution_count": null,
   "metadata": {
    "collapsed": true
   },
   "outputs": [],
   "source": []
  },
  {
   "cell_type": "code",
   "execution_count": null,
   "metadata": {
    "collapsed": true
   },
   "outputs": [],
   "source": []
  },
  {
   "cell_type": "code",
   "execution_count": null,
   "metadata": {
    "collapsed": true
   },
   "outputs": [],
   "source": []
  },
  {
   "cell_type": "code",
   "execution_count": null,
   "metadata": {
    "collapsed": true
   },
   "outputs": [],
   "source": []
  },
  {
   "cell_type": "code",
   "execution_count": null,
   "metadata": {
    "collapsed": true
   },
   "outputs": [],
   "source": []
  },
  {
   "cell_type": "code",
   "execution_count": null,
   "metadata": {
    "collapsed": true
   },
   "outputs": [],
   "source": []
  },
  {
   "cell_type": "code",
   "execution_count": null,
   "metadata": {
    "collapsed": true
   },
   "outputs": [],
   "source": []
  },
  {
   "cell_type": "code",
   "execution_count": null,
   "metadata": {
    "collapsed": true
   },
   "outputs": [],
   "source": []
  },
  {
   "cell_type": "code",
   "execution_count": null,
   "metadata": {
    "collapsed": true,
    "slideshow": {
     "slide_type": "-"
    }
   },
   "outputs": [],
   "source": []
  },
  {
   "cell_type": "code",
   "execution_count": null,
   "metadata": {
    "collapsed": true,
    "slideshow": {
     "slide_type": "skip"
    }
   },
   "outputs": [],
   "source": []
  }
 ],
 "metadata": {
  "celltoolbar": "Slideshow",
  "kernelspec": {
   "display_name": "Python 3",
   "language": "python",
   "name": "python3"
  },
  "language_info": {
   "codemirror_mode": {
    "name": "ipython",
    "version": 3
   },
   "file_extension": ".py",
   "mimetype": "text/x-python",
   "name": "python",
   "nbconvert_exporter": "python",
   "pygments_lexer": "ipython3",
   "version": "3.6.1"
  }
 },
 "nbformat": 4,
 "nbformat_minor": 2
}
