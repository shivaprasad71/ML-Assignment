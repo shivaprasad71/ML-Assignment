{
 "cells": [
  {
   "cell_type": "code",
   "execution_count": 5,
   "metadata": {},
   "outputs": [
    {
     "name": "stdout",
     "output_type": "stream",
     "text": [
      "Enter the value of a 1\n",
      "enter the value of b 2\n",
      "27\n"
     ]
    }
   ],
   "source": [
    "import tensorflow as tf\n",
    "tf.reset_default_graph()\n",
    "a=int(input('Enter the value of a '))\n",
    "b=int(input('enter the value of b '))\n",
    "with tf.name_scope(\"MyOperationGroup\"):\n",
    "    with tf.name_scope(\"Scope_A\"):\n",
    "        with tf.name_scope(\"Cube_A\"):\n",
    "            c=tf.multiply(a,a)\n",
    "            c1=tf.multiply(c,a)\n",
    "    with tf.name_scope(\"Scope_B\"):\n",
    "        with tf.name_scope(\"Cube_B\"):\n",
    "            d=tf.multiply(b,b)\n",
    "            d1=tf.multiply(d,b)\n",
    "    with tf.name_scope(\"Scope_C\"):\n",
    "            e=tf.multiply(a,b)\n",
    "            f=tf.multiply(3,e)\n",
    "            h=tf.add(a,b)\n",
    "            i=tf.multiply(f,h)\n",
    "    with tf.name_scope(\"Scope_D\"):\n",
    "            g=tf.add(c1,d1)\n",
    "            j=tf.add(g,i)\n",
    "\n",
    "with tf.Session() as sess:\n",
    "    writer = tf.summary.FileWriter(\"/tmp/tboard/output8\", sess.graph)\n",
    "    print(sess.run(j))\n",
    "    writer.close()"
   ]
  },
  {
   "cell_type": "code",
   "execution_count": null,
   "metadata": {
    "collapsed": true
   },
   "outputs": [],
   "source": []
  }
 ],
 "metadata": {
  "kernelspec": {
   "display_name": "Python 3",
   "language": "python",
   "name": "python3"
  },
  "language_info": {
   "codemirror_mode": {
    "name": "ipython",
    "version": 3
   },
   "file_extension": ".py",
   "mimetype": "text/x-python",
   "name": "python",
   "nbconvert_exporter": "python",
   "pygments_lexer": "ipython3",
   "version": "3.6.1"
  }
 },
 "nbformat": 4,
 "nbformat_minor": 2
}
