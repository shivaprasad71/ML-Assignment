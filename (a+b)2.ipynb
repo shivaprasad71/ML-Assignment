{
 "cells": [
  {
   "cell_type": "code",
   "execution_count": 13,
   "metadata": {},
   "outputs": [
    {
     "name": "stdout",
     "output_type": "stream",
     "text": [
      "Enter the value of a 5\n",
      "enter the value of b 6\n",
      "1\n"
     ]
    }
   ],
   "source": [
    "import tensorflow as tf\n",
    "tf.reset_default_graph()\n",
    "a=int(input('Enter the value of a '))\n",
    "b=int(input('enter the value of b '))\n",
    "with tf.name_scope(\"MyOperationGroup\"):\n",
    "    with tf.name_scope(\"Scope_A\"):\n",
    "        c=tf.multiply(a,a,name=\"Square_of_A\")\n",
    "    with tf.name_scope(\"Scope_B\"):\n",
    "        d=tf.multiply(b,b,name=\"Square_of_B\")\n",
    "    with tf.name_scope(\"Scope_C\"):\n",
    "        e=tf.multiply(a,b,name=\"Multiply_A_and_B\")\n",
    "        f=tf.multiply(2,e)\n",
    "    with tf.name_scope(\"Scope_D\"):\n",
    "        g=tf.add(c,d,name=\"Add_square_of_a_and_b\")\n",
    "        h=tf.subtract(g,f)\n",
    "\n",
    "with tf.Session() as sess:\n",
    "    writer = tf.summary.FileWriter(\"/tmp/tboard/output9\", sess.graph)\n",
    "    print(sess.run(h))\n",
    "    writer.close()"
   ]
  },
  {
   "cell_type": "code",
   "execution_count": null,
   "metadata": {
    "collapsed": true
   },
   "outputs": [],
   "source": []
  }
 ],
 "metadata": {
  "kernelspec": {
   "display_name": "Python 3",
   "language": "python",
   "name": "python3"
  },
  "language_info": {
   "codemirror_mode": {
    "name": "ipython",
    "version": 3
   },
   "file_extension": ".py",
   "mimetype": "text/x-python",
   "name": "python",
   "nbconvert_exporter": "python",
   "pygments_lexer": "ipython3",
   "version": "3.6.1"
  }
 },
 "nbformat": 4,
 "nbformat_minor": 2
}
